{
  "nbformat": 4,
  "nbformat_minor": 0,
  "metadata": {
    "colab": {
      "provenance": [],
      "authorship_tag": "ABX9TyOPZGUloTCxP9dlA+gm/OBN",
      "include_colab_link": true
    },
    "kernelspec": {
      "name": "python3",
      "display_name": "Python 3"
    },
    "language_info": {
      "name": "python"
    }
  },
  "cells": [
    {
      "cell_type": "markdown",
      "metadata": {
        "id": "view-in-github",
        "colab_type": "text"
      },
      "source": [
        "<a href=\"https://colab.research.google.com/github/Ibne-Hassan2001/Stock-Price-Forecasting-Using-Deep-learning-and-Neural-Networks/blob/main/Stock_exchange_price_forecast_using_Lstm.ipynb\" target=\"_parent\"><img src=\"https://colab.research.google.com/assets/colab-badge.svg\" alt=\"Open In Colab\"/></a>"
      ]
    },
    {
      "cell_type": "code",
      "execution_count": null,
      "metadata": {
        "id": "0sxYkra69Dou"
      },
      "outputs": [],
      "source": [
        "import numpy as np \n",
        "import pandas as pd \n",
        "import matplotlib.pyplot as plt \n",
        "from sklearn.preprocessing import MinMaxScaler\n",
        "from keras.models import Sequential\n",
        "from keras.layers import Dense,LSTM,Dropout"
      ]
    },
    {
      "cell_type": "code",
      "source": [
        "from google.colab import drive\n",
        "drive.mount('/content/drive')"
      ],
      "metadata": {
        "id": "rR-yojXNnPKv"
      },
      "execution_count": null,
      "outputs": []
    },
    {
      "cell_type": "code",
      "source": [
        "data = pd.read_csv('Google_train_data.csv')\n",
        "data.head()"
      ],
      "metadata": {
        "colab": {
          "base_uri": "https://localhost:8080/",
          "height": 206
        },
        "id": "7GSYZb3C9awo",
        "outputId": "411e8030-00b0-4934-fb0b-dffcb8296fa8"
      },
      "execution_count": null,
      "outputs": [
        {
          "output_type": "execute_result",
          "data": {
            "text/plain": [
              "       Date    Open    High     Low   Close      Volume\n",
              "0  1/3/2012  325.25  332.83  324.97  663.59   7,380,500\n",
              "1  1/4/2012  331.27  333.87  329.08  666.45   5,749,400\n",
              "2  1/5/2012  329.83  330.75  326.89  657.21   6,590,300\n",
              "3  1/6/2012  328.34  328.77  323.68  648.24   5,405,900\n",
              "4  1/9/2012  322.04  322.29  309.46  620.76  11,688,800"
            ],
            "text/html": [
              "\n",
              "  <div id=\"df-07d39092-ce69-4663-a813-20dde7a009d0\">\n",
              "    <div class=\"colab-df-container\">\n",
              "      <div>\n",
              "<style scoped>\n",
              "    .dataframe tbody tr th:only-of-type {\n",
              "        vertical-align: middle;\n",
              "    }\n",
              "\n",
              "    .dataframe tbody tr th {\n",
              "        vertical-align: top;\n",
              "    }\n",
              "\n",
              "    .dataframe thead th {\n",
              "        text-align: right;\n",
              "    }\n",
              "</style>\n",
              "<table border=\"1\" class=\"dataframe\">\n",
              "  <thead>\n",
              "    <tr style=\"text-align: right;\">\n",
              "      <th></th>\n",
              "      <th>Date</th>\n",
              "      <th>Open</th>\n",
              "      <th>High</th>\n",
              "      <th>Low</th>\n",
              "      <th>Close</th>\n",
              "      <th>Volume</th>\n",
              "    </tr>\n",
              "  </thead>\n",
              "  <tbody>\n",
              "    <tr>\n",
              "      <th>0</th>\n",
              "      <td>1/3/2012</td>\n",
              "      <td>325.25</td>\n",
              "      <td>332.83</td>\n",
              "      <td>324.97</td>\n",
              "      <td>663.59</td>\n",
              "      <td>7,380,500</td>\n",
              "    </tr>\n",
              "    <tr>\n",
              "      <th>1</th>\n",
              "      <td>1/4/2012</td>\n",
              "      <td>331.27</td>\n",
              "      <td>333.87</td>\n",
              "      <td>329.08</td>\n",
              "      <td>666.45</td>\n",
              "      <td>5,749,400</td>\n",
              "    </tr>\n",
              "    <tr>\n",
              "      <th>2</th>\n",
              "      <td>1/5/2012</td>\n",
              "      <td>329.83</td>\n",
              "      <td>330.75</td>\n",
              "      <td>326.89</td>\n",
              "      <td>657.21</td>\n",
              "      <td>6,590,300</td>\n",
              "    </tr>\n",
              "    <tr>\n",
              "      <th>3</th>\n",
              "      <td>1/6/2012</td>\n",
              "      <td>328.34</td>\n",
              "      <td>328.77</td>\n",
              "      <td>323.68</td>\n",
              "      <td>648.24</td>\n",
              "      <td>5,405,900</td>\n",
              "    </tr>\n",
              "    <tr>\n",
              "      <th>4</th>\n",
              "      <td>1/9/2012</td>\n",
              "      <td>322.04</td>\n",
              "      <td>322.29</td>\n",
              "      <td>309.46</td>\n",
              "      <td>620.76</td>\n",
              "      <td>11,688,800</td>\n",
              "    </tr>\n",
              "  </tbody>\n",
              "</table>\n",
              "</div>\n",
              "      <button class=\"colab-df-convert\" onclick=\"convertToInteractive('df-07d39092-ce69-4663-a813-20dde7a009d0')\"\n",
              "              title=\"Convert this dataframe to an interactive table.\"\n",
              "              style=\"display:none;\">\n",
              "        \n",
              "  <svg xmlns=\"http://www.w3.org/2000/svg\" height=\"24px\"viewBox=\"0 0 24 24\"\n",
              "       width=\"24px\">\n",
              "    <path d=\"M0 0h24v24H0V0z\" fill=\"none\"/>\n",
              "    <path d=\"M18.56 5.44l.94 2.06.94-2.06 2.06-.94-2.06-.94-.94-2.06-.94 2.06-2.06.94zm-11 1L8.5 8.5l.94-2.06 2.06-.94-2.06-.94L8.5 2.5l-.94 2.06-2.06.94zm10 10l.94 2.06.94-2.06 2.06-.94-2.06-.94-.94-2.06-.94 2.06-2.06.94z\"/><path d=\"M17.41 7.96l-1.37-1.37c-.4-.4-.92-.59-1.43-.59-.52 0-1.04.2-1.43.59L10.3 9.45l-7.72 7.72c-.78.78-.78 2.05 0 2.83L4 21.41c.39.39.9.59 1.41.59.51 0 1.02-.2 1.41-.59l7.78-7.78 2.81-2.81c.8-.78.8-2.07 0-2.86zM5.41 20L4 18.59l7.72-7.72 1.47 1.35L5.41 20z\"/>\n",
              "  </svg>\n",
              "      </button>\n",
              "      \n",
              "  <style>\n",
              "    .colab-df-container {\n",
              "      display:flex;\n",
              "      flex-wrap:wrap;\n",
              "      gap: 12px;\n",
              "    }\n",
              "\n",
              "    .colab-df-convert {\n",
              "      background-color: #E8F0FE;\n",
              "      border: none;\n",
              "      border-radius: 50%;\n",
              "      cursor: pointer;\n",
              "      display: none;\n",
              "      fill: #1967D2;\n",
              "      height: 32px;\n",
              "      padding: 0 0 0 0;\n",
              "      width: 32px;\n",
              "    }\n",
              "\n",
              "    .colab-df-convert:hover {\n",
              "      background-color: #E2EBFA;\n",
              "      box-shadow: 0px 1px 2px rgba(60, 64, 67, 0.3), 0px 1px 3px 1px rgba(60, 64, 67, 0.15);\n",
              "      fill: #174EA6;\n",
              "    }\n",
              "\n",
              "    [theme=dark] .colab-df-convert {\n",
              "      background-color: #3B4455;\n",
              "      fill: #D2E3FC;\n",
              "    }\n",
              "\n",
              "    [theme=dark] .colab-df-convert:hover {\n",
              "      background-color: #434B5C;\n",
              "      box-shadow: 0px 1px 3px 1px rgba(0, 0, 0, 0.15);\n",
              "      filter: drop-shadow(0px 1px 2px rgba(0, 0, 0, 0.3));\n",
              "      fill: #FFFFFF;\n",
              "    }\n",
              "  </style>\n",
              "\n",
              "      <script>\n",
              "        const buttonEl =\n",
              "          document.querySelector('#df-07d39092-ce69-4663-a813-20dde7a009d0 button.colab-df-convert');\n",
              "        buttonEl.style.display =\n",
              "          google.colab.kernel.accessAllowed ? 'block' : 'none';\n",
              "\n",
              "        async function convertToInteractive(key) {\n",
              "          const element = document.querySelector('#df-07d39092-ce69-4663-a813-20dde7a009d0');\n",
              "          const dataTable =\n",
              "            await google.colab.kernel.invokeFunction('convertToInteractive',\n",
              "                                                     [key], {});\n",
              "          if (!dataTable) return;\n",
              "\n",
              "          const docLinkHtml = 'Like what you see? Visit the ' +\n",
              "            '<a target=\"_blank\" href=https://colab.research.google.com/notebooks/data_table.ipynb>data table notebook</a>'\n",
              "            + ' to learn more about interactive tables.';\n",
              "          element.innerHTML = '';\n",
              "          dataTable['output_type'] = 'display_data';\n",
              "          await google.colab.output.renderOutput(dataTable, element);\n",
              "          const docLink = document.createElement('div');\n",
              "          docLink.innerHTML = docLinkHtml;\n",
              "          element.appendChild(docLink);\n",
              "        }\n",
              "      </script>\n",
              "    </div>\n",
              "  </div>\n",
              "  "
            ]
          },
          "metadata": {},
          "execution_count": 2
        }
      ]
    },
    {
      "cell_type": "code",
      "source": [
        "data.info()\n"
      ],
      "metadata": {
        "colab": {
          "base_uri": "https://localhost:8080/"
        },
        "id": "TRCOztav9gKF",
        "outputId": "a2c763e1-fe69-41e2-f8b2-9a23acbbcd93"
      },
      "execution_count": null,
      "outputs": [
        {
          "output_type": "stream",
          "name": "stdout",
          "text": [
            "<class 'pandas.core.frame.DataFrame'>\n",
            "RangeIndex: 1258 entries, 0 to 1257\n",
            "Data columns (total 6 columns):\n",
            " #   Column  Non-Null Count  Dtype  \n",
            "---  ------  --------------  -----  \n",
            " 0   Date    1258 non-null   object \n",
            " 1   Open    1258 non-null   float64\n",
            " 2   High    1258 non-null   float64\n",
            " 3   Low     1258 non-null   float64\n",
            " 4   Close   1258 non-null   object \n",
            " 5   Volume  1258 non-null   object \n",
            "dtypes: float64(3), object(3)\n",
            "memory usage: 59.1+ KB\n"
          ]
        }
      ]
    },
    {
      "cell_type": "code",
      "source": [
        "data[\"Close\"]=pd.to_numeric(data.Close,errors='coerce')\n",
        "data = data.dropna()\n",
        "trainData = data.iloc[:,4:5].values"
      ],
      "metadata": {
        "id": "B1MN5p0n9kCP"
      },
      "execution_count": null,
      "outputs": []
    },
    {
      "cell_type": "code",
      "source": [
        "data.info()"
      ],
      "metadata": {
        "colab": {
          "base_uri": "https://localhost:8080/"
        },
        "id": "jLjg1UFc9oqx",
        "outputId": "beea2965-bd71-4486-ef21-16d5931be37f"
      },
      "execution_count": null,
      "outputs": [
        {
          "output_type": "stream",
          "name": "stdout",
          "text": [
            "<class 'pandas.core.frame.DataFrame'>\n",
            "Int64Index: 1149 entries, 0 to 1257\n",
            "Data columns (total 6 columns):\n",
            " #   Column  Non-Null Count  Dtype  \n",
            "---  ------  --------------  -----  \n",
            " 0   Date    1149 non-null   object \n",
            " 1   Open    1149 non-null   float64\n",
            " 2   High    1149 non-null   float64\n",
            " 3   Low     1149 non-null   float64\n",
            " 4   Close   1149 non-null   float64\n",
            " 5   Volume  1149 non-null   object \n",
            "dtypes: float64(4), object(2)\n",
            "memory usage: 62.8+ KB\n"
          ]
        }
      ]
    },
    {
      "cell_type": "code",
      "source": [
        "sc = MinMaxScaler(feature_range=(0,1))\n",
        "trainData = sc.fit_transform(trainData)\n",
        "trainData.shape"
      ],
      "metadata": {
        "colab": {
          "base_uri": "https://localhost:8080/"
        },
        "id": "X-qFv0Hn9qqY",
        "outputId": "2503afa3-0484-46c0-b949-9e7cc0a96d1c"
      },
      "execution_count": null,
      "outputs": [
        {
          "output_type": "execute_result",
          "data": {
            "text/plain": [
              "(1149, 1)"
            ]
          },
          "metadata": {},
          "execution_count": 6
        }
      ]
    },
    {
      "cell_type": "code",
      "source": [
        "X_train = []\n",
        "y_train = []\n",
        "\n",
        "for i in range (60,1149): #60 : timestep // 1149 : length of the data\n",
        "    X_train.append(trainData[i-60:i,0]) \n",
        "    y_train.append(trainData[i,0])\n",
        "\n",
        "X_train,y_train = np.array(X_train),np.array(y_train)"
      ],
      "metadata": {
        "id": "d5t5BvkU91_c"
      },
      "execution_count": null,
      "outputs": []
    },
    {
      "cell_type": "code",
      "source": [
        "X_train = np.reshape(X_train,(X_train.shape[0],X_train.shape[1],1)) #adding the batch_size axis\n",
        "X_train.shape"
      ],
      "metadata": {
        "colab": {
          "base_uri": "https://localhost:8080/"
        },
        "id": "o0Ss9LJc93k_",
        "outputId": "47409a18-8611-43a6-acc8-c958fe178dcd"
      },
      "execution_count": null,
      "outputs": [
        {
          "output_type": "execute_result",
          "data": {
            "text/plain": [
              "(1089, 60, 1)"
            ]
          },
          "metadata": {},
          "execution_count": 8
        }
      ]
    },
    {
      "cell_type": "code",
      "source": [
        "model = Sequential()\n",
        "\n",
        "model.add(LSTM(units=100, return_sequences = True, input_shape =(X_train.shape[1],1)))\n",
        "model.add(Dropout(0.2))\n",
        "\n",
        "model.add(LSTM(units=100, return_sequences = True))\n",
        "model.add(Dropout(0.2))\n",
        "\n",
        "model.add(LSTM(units=100, return_sequences = True))\n",
        "model.add(Dropout(0.2))\n",
        "\n",
        "model.add(LSTM(units=100, return_sequences = False))\n",
        "model.add(Dropout(0.2))\n",
        "\n",
        "model.add(Dense(units =1))\n",
        "model.compile(optimizer='adam',loss=\"mean_squared_error\")"
      ],
      "metadata": {
        "id": "LxWeXAjP96Dj"
      },
      "execution_count": null,
      "outputs": []
    },
    {
      "cell_type": "code",
      "source": [
        "hist = model.fit(X_train, y_train, epochs = 20, batch_size = 32, verbose=2)"
      ],
      "metadata": {
        "colab": {
          "base_uri": "https://localhost:8080/"
        },
        "id": "TBag2pQc-ClT",
        "outputId": "86575a55-1255-4feb-a61f-630a1ed903cf"
      },
      "execution_count": null,
      "outputs": [
        {
          "output_type": "stream",
          "name": "stdout",
          "text": [
            "Epoch 1/20\n",
            "35/35 - 15s - loss: 0.0379 - 15s/epoch - 440ms/step\n",
            "Epoch 2/20\n",
            "35/35 - 7s - loss: 0.0115 - 7s/epoch - 190ms/step\n",
            "Epoch 3/20\n",
            "35/35 - 7s - loss: 0.0092 - 7s/epoch - 192ms/step\n",
            "Epoch 4/20\n",
            "35/35 - 7s - loss: 0.0110 - 7s/epoch - 188ms/step\n",
            "Epoch 5/20\n",
            "35/35 - 7s - loss: 0.0083 - 7s/epoch - 189ms/step\n",
            "Epoch 6/20\n",
            "35/35 - 7s - loss: 0.0074 - 7s/epoch - 188ms/step\n",
            "Epoch 7/20\n",
            "35/35 - 7s - loss: 0.0086 - 7s/epoch - 212ms/step\n",
            "Epoch 8/20\n",
            "35/35 - 7s - loss: 0.0064 - 7s/epoch - 189ms/step\n",
            "Epoch 9/20\n",
            "35/35 - 7s - loss: 0.0066 - 7s/epoch - 188ms/step\n",
            "Epoch 10/20\n",
            "35/35 - 7s - loss: 0.0076 - 7s/epoch - 208ms/step\n",
            "Epoch 11/20\n",
            "35/35 - 7s - loss: 0.0086 - 7s/epoch - 190ms/step\n",
            "Epoch 12/20\n",
            "35/35 - 7s - loss: 0.0058 - 7s/epoch - 191ms/step\n",
            "Epoch 13/20\n",
            "35/35 - 7s - loss: 0.0057 - 7s/epoch - 189ms/step\n",
            "Epoch 14/20\n",
            "35/35 - 7s - loss: 0.0309 - 7s/epoch - 190ms/step\n",
            "Epoch 15/20\n",
            "35/35 - 7s - loss: 0.0084 - 7s/epoch - 190ms/step\n",
            "Epoch 16/20\n",
            "35/35 - 7s - loss: 0.0068 - 7s/epoch - 190ms/step\n",
            "Epoch 17/20\n",
            "35/35 - 7s - loss: 0.0065 - 7s/epoch - 189ms/step\n",
            "Epoch 18/20\n",
            "35/35 - 7s - loss: 0.0056 - 7s/epoch - 190ms/step\n",
            "Epoch 19/20\n",
            "35/35 - 7s - loss: 0.0055 - 7s/epoch - 191ms/step\n",
            "Epoch 20/20\n",
            "35/35 - 7s - loss: 0.0053 - 7s/epoch - 188ms/step\n"
          ]
        }
      ]
    },
    {
      "cell_type": "code",
      "source": [
        "plt.plot(hist.history['loss'])\n",
        "plt.title('Training model loss')\n",
        "plt.ylabel('loss')\n",
        "plt.xlabel('epoch')\n",
        "plt.legend(['train'], loc='upper left')\n",
        "plt.show()"
      ],
      "metadata": {
        "colab": {
          "base_uri": "https://localhost:8080/",
          "height": 295
        },
        "id": "4cthJI4X_YBO",
        "outputId": "47db500e-9fc8-4adc-80f8-38526ba7e677"
      },
      "execution_count": null,
      "outputs": [
        {
          "output_type": "display_data",
          "data": {
            "text/plain": [
              "<Figure size 432x288 with 1 Axes>"
            ],
            "image/png": "[encoded data removed]"
          },
          "metadata": {
            "needs_background": "light"
          }
        }
      ]
    },
    {
      "cell_type": "code",
      "source": [
        "testData = pd.read_csv('Google_test_data.csv')\n",
        "testData[\"Close\"]=pd.to_numeric(testData.Close,errors='coerce')\n",
        "testData = testData.dropna()\n",
        "testData = testData.iloc[:,4:5]\n",
        "y_test = testData.iloc[60:,0:].values \n",
        "#input array for the model\n",
        "inputClosing = testData.iloc[:,0:].values \n",
        "inputClosing_scaled = sc.transform(inputClosing)\n",
        "inputClosing_scaled.shape\n",
        "X_test = []\n",
        "length = len(testData)\n",
        "timestep = 60\n",
        "for i in range(timestep,length):  \n",
        "    X_test.append(inputClosing_scaled[i-timestep:i,0])\n",
        "X_test = np.array(X_test)\n",
        "X_test = np.reshape(X_test,(X_test.shape[0],X_test.shape[1],1))\n",
        "X_test.shape"
      ],
      "metadata": {
        "colab": {
          "base_uri": "https://localhost:8080/"
        },
        "id": "-xM0h2TT_gfv",
        "outputId": "1c911c8b-a596-49e0-9a03-174c78460b92"
      },
      "execution_count": null,
      "outputs": [
        {
          "output_type": "execute_result",
          "data": {
            "text/plain": [
              "(192, 60, 1)"
            ]
          },
          "metadata": {},
          "execution_count": 12
        }
      ]
    },
    {
      "cell_type": "code",
      "source": [
        "y_pred = model.predict(X_test)\n",
        "y_pred"
      ],
      "metadata": {
        "colab": {
          "base_uri": "https://localhost:8080/"
        },
        "id": "isaxHM21_jiX",
        "outputId": "f081ada4-833d-444c-f7a8-a5b83819f212"
      },
      "execution_count": null,
      "outputs": [
        {
          "output_type": "stream",
          "name": "stdout",
          "text": [
            "6/6 [==============================] - 2s 62ms/step\n"
          ]
        },
        {
          "output_type": "execute_result",
          "data": {
            "text/plain": [
              "array([[1.2671714],\n",
              "       [1.2648278],\n",
              "       [1.2686999],\n",
              "       [1.2785861],\n",
              "       [1.2908819],\n",
              "       [1.2995315],\n",
              "       [1.3013761],\n",
              "       [1.2970971],\n",
              "       [1.2909871],\n",
              "       [1.2858019],\n",
              "       [1.2785133],\n",
              "       [1.2684891],\n",
              "       [1.2576828],\n",
              "       [1.2464988],\n",
              "       [1.2382768],\n",
              "       [1.2342961],\n",
              "       [1.2389345],\n",
              "       [1.2530448],\n",
              "       [1.2750678],\n",
              "       [1.3027184],\n",
              "       [1.3263516],\n",
              "       [1.3423187],\n",
              "       [1.3464171],\n",
              "       [1.3390936],\n",
              "       [1.3246515],\n",
              "       [1.3087543],\n",
              "       [1.2951101],\n",
              "       [1.2834771],\n",
              "       [1.2707973],\n",
              "       [1.2573029],\n",
              "       [1.2434672],\n",
              "       [1.2289102],\n",
              "       [1.2111129],\n",
              "       [1.1897346],\n",
              "       [1.1728915],\n",
              "       [1.165919 ],\n",
              "       [1.1694   ],\n",
              "       [1.181021 ],\n",
              "       [1.1983619],\n",
              "       [1.2152268],\n",
              "       [1.2333583],\n",
              "       [1.252981 ],\n",
              "       [1.2739275],\n",
              "       [1.2946553],\n",
              "       [1.3128517],\n",
              "       [1.3254623],\n",
              "       [1.330006 ],\n",
              "       [1.3300416],\n",
              "       [1.328921 ],\n",
              "       [1.3295307],\n",
              "       [1.3336991],\n",
              "       [1.338257 ],\n",
              "       [1.3414514],\n",
              "       [1.3422902],\n",
              "       [1.342577 ],\n",
              "       [1.3411976],\n",
              "       [1.3367934],\n",
              "       [1.332444 ],\n",
              "       [1.3330657],\n",
              "       [1.3396817],\n",
              "       [1.3534594],\n",
              "       [1.3742377],\n",
              "       [1.3960305],\n",
              "       [1.4124343],\n",
              "       [1.4201062],\n",
              "       [1.4189508],\n",
              "       [1.4137983],\n",
              "       [1.4081599],\n",
              "       [1.4042033],\n",
              "       [1.4017805],\n",
              "       [1.4009291],\n",
              "       [1.4007944],\n",
              "       [1.3989064],\n",
              "       [1.3958476],\n",
              "       [1.3923223],\n",
              "       [1.3896278],\n",
              "       [1.3885092],\n",
              "       [1.389475 ],\n",
              "       [1.394601 ],\n",
              "       [1.4046658],\n",
              "       [1.4200805],\n",
              "       [1.4386811],\n",
              "       [1.4560636],\n",
              "       [1.4692032],\n",
              "       [1.480566 ],\n",
              "       [1.4933043],\n",
              "       [1.5080492],\n",
              "       [1.5228481],\n",
              "       [1.5355966],\n",
              "       [1.5448873],\n",
              "       [1.5518384],\n",
              "       [1.5599021],\n",
              "       [1.5708998],\n",
              "       [1.5814321],\n",
              "       [1.5877085],\n",
              "       [1.587392 ],\n",
              "       [1.5794468],\n",
              "       [1.564849 ],\n",
              "       [1.5467085],\n",
              "       [1.5305344],\n",
              "       [1.5201485],\n",
              "       [1.5172843],\n",
              "       [1.5222582],\n",
              "       [1.5323706],\n",
              "       [1.5442461],\n",
              "       [1.5545466],\n",
              "       [1.5620911],\n",
              "       [1.5669144],\n",
              "       [1.5709192],\n",
              "       [1.575395 ],\n",
              "       [1.5812477],\n",
              "       [1.5892478],\n",
              "       [1.5988067],\n",
              "       [1.6100824],\n",
              "       [1.623863 ],\n",
              "       [1.6382416],\n",
              "       [1.6521043],\n",
              "       [1.6651707],\n",
              "       [1.6784176],\n",
              "       [1.6805341],\n",
              "       [1.6659547],\n",
              "       [1.6356021],\n",
              "       [1.5973161],\n",
              "       [1.5590204],\n",
              "       [1.5248461],\n",
              "       [1.4966979],\n",
              "       [1.4751803],\n",
              "       [1.4605688],\n",
              "       [1.4488981],\n",
              "       [1.4369371],\n",
              "       [1.4287859],\n",
              "       [1.4283413],\n",
              "       [1.4344623],\n",
              "       [1.4422597],\n",
              "       [1.4496824],\n",
              "       [1.4558657],\n",
              "       [1.4593909],\n",
              "       [1.4592189],\n",
              "       [1.4557444],\n",
              "       [1.4481543],\n",
              "       [1.4373934],\n",
              "       [1.4235852],\n",
              "       [1.4006948],\n",
              "       [1.3701484],\n",
              "       [1.3347192],\n",
              "       [1.2988381],\n",
              "       [1.26897  ],\n",
              "       [1.2504177],\n",
              "       [1.2445313],\n",
              "       [1.2495351],\n",
              "       [1.263327 ],\n",
              "       [1.2822368],\n",
              "       [1.3033664],\n",
              "       [1.325225 ],\n",
              "       [1.3459791],\n",
              "       [1.3650045],\n",
              "       [1.3826495],\n",
              "       [1.3978618],\n",
              "       [1.4065629],\n",
              "       [1.4066566],\n",
              "       [1.3983854],\n",
              "       [1.3845032],\n",
              "       [1.3700458],\n",
              "       [1.3598264],\n",
              "       [1.3569741],\n",
              "       [1.36267  ],\n",
              "       [1.3736813],\n",
              "       [1.3874277],\n",
              "       [1.403115 ],\n",
              "       [1.4197387],\n",
              "       [1.4358987],\n",
              "       [1.450761 ],\n",
              "       [1.463778 ],\n",
              "       [1.4735723],\n",
              "       [1.4795283],\n",
              "       [1.4799765],\n",
              "       [1.4759525],\n",
              "       [1.4699693],\n",
              "       [1.4630258],\n",
              "       [1.4553845],\n",
              "       [1.4606305],\n",
              "       [1.481866 ],\n",
              "       [1.5141381],\n",
              "       [1.5494088],\n",
              "       [1.5802041],\n",
              "       [1.6007159],\n",
              "       [1.6048505],\n",
              "       [1.5949068],\n",
              "       [1.5759528],\n",
              "       [1.5566502],\n",
              "       [1.5403442],\n",
              "       [1.5270959]], dtype=float32)"
            ]
          },
          "metadata": {},
          "execution_count": 13
        }
      ]
    },
    {
      "cell_type": "code",
      "source": [
        "predicted_price = sc.inverse_transform(y_pred)"
      ],
      "metadata": {
        "id": "p-nDroEc_m7O"
      },
      "execution_count": null,
      "outputs": []
    },
    {
      "cell_type": "code",
      "source": [
        "plt.plot(y_test, color = 'red', label = 'Actual Stock Price')\n",
        "plt.plot(predicted_price, color = 'green', label = 'Predicted Stock Price')\n",
        "plt.title('Google stock price prediction')\n",
        "plt.xlabel('Time')\n",
        "plt.ylabel('Stock Price')\n",
        "plt.legend()\n",
        "plt.show()"
      ],
      "metadata": {
        "colab": {
          "base_uri": "https://localhost:8080/",
          "height": 295
        },
        "id": "zMoypPoT_p10",
        "outputId": "6297ec9f-758d-46fd-d446-d02a2aa1de3d"
      },
      "execution_count": null,
      "outputs": [
        {
          "output_type": "display_data",
          "data": {
            "text/plain": [
              "<Figure size 432x288 with 1 Axes>"
            ],
            "image/png": "[encoded data removed]"
          },
          "metadata": {
            "needs_background": "light"
          }
        }
      ]
    }
  ]
}